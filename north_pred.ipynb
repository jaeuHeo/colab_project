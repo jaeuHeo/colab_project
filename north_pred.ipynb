{
  "nbformat": 4,
  "nbformat_minor": 0,
  "metadata": {
    "colab": {
      "name": "north_pred.ipynb",
      "private_outputs": true,
      "provenance": [],
      "authorship_tag": "ABX9TyO+dez/0cZ//IuVn7Pk67Cp",
      "include_colab_link": true
    },
    "kernelspec": {
      "name": "python3",
      "display_name": "Python 3"
    }
  },
  "cells": [
    {
      "cell_type": "markdown",
      "metadata": {
        "id": "view-in-github",
        "colab_type": "text"
      },
      "source": [
        "<a href=\"https://colab.research.google.com/github/jaeuHeo/colab_project/blob/main/north_pred.ipynb\" target=\"_parent\"><img src=\"https://colab.research.google.com/assets/colab-badge.svg\" alt=\"Open In Colab\"/></a>"
      ]
    },
    {
      "cell_type": "code",
      "metadata": {
        "id": "RNuPpYNax0Zx"
      },
      "source": [
        "from google.colab import drive\n",
        "drive.mount('/content/drive')\n",
        "import pandas as pd\n"
      ],
      "execution_count": null,
      "outputs": []
    },
    {
      "cell_type": "code",
      "metadata": {
        "id": "2YmoTaT8x7bu"
      },
      "source": [
        "train  = pd.read_csv('/content/drive/My Drive/dacon/north/train.csv')\n",
        "# test = pd.read_csv('/content/drive/My Drive/dacon/motion/test_df.csv')\n",
        "sub = pd.read_csv('/content/drive/My Drive/dacon/north/sample_submission.csv')"
      ],
      "execution_count": null,
      "outputs": []
    },
    {
      "cell_type": "markdown",
      "metadata": {
        "id": "_E8Cq3_myj7k"
      },
      "source": [
        ""
      ]
    },
    {
      "cell_type": "code",
      "metadata": {
        "id": "Dt9lS5pIyqFo"
      },
      "source": [
        "import os,glob\n",
        "import numpy as np\n",
        "import matplotlib.pyplot as plt\n",
        "import tqdm\n",
        "def sorted_list(path):\n",
        "    tmplist = glob.glob(path)\n",
        "    tmplist.sort()\n",
        "    return tmplist\n",
        "\n",
        "def show_data(npy):\n",
        "    num_channel = npy.shape[-1]\n",
        "    # print(num_channel)\n",
        "    plt.figure(figsize=(3*num_channel,5))\n",
        "    for channel in range(num_channel):\n",
        "        tmpimg = npy[:,:,channel]\n",
        "        # print(\"*\"*30)\n",
        "        # print(tmpimg)\n",
        "        ax = plt.subplot(1,num_channel,channel+1) # subplot(nrow,ncol,(n,m)의 그릴 위치)\n",
        "        if channel == 0:\n",
        "            ax.title.set_text('Ice Concentration(0-250)')\n",
        "        elif channel == 1:\n",
        "            ax.title.set_text('north pole')\n",
        "        elif channel == 2:\n",
        "          ax.title.set_text('Coastline Mask')\n",
        "        elif channel == 3:\n",
        "          ax.title.set_text('Land Mask')\n",
        "        else:\n",
        "          ax.title.set_text('NULL VALUE') \n",
        "        ax.imshow(tmpimg)\n",
        "    plt.tight_layout()\n",
        "    plt.show()\n",
        "    plt.close()\n"
      ],
      "execution_count": null,
      "outputs": []
    },
    {
      "cell_type": "code",
      "metadata": {
        "id": "QDFieFsr0Wa2"
      },
      "source": [
        "PATH = '/content/drive/MyDrive/dacon/north'\n",
        "train = pd.read_csv(PATH+'/train.csv')\n",
        "sub = pd.read_csv(PATH+'/sample_submission.csv')\n",
        "# sub = sub.drop(columns = \"136193\")\n",
        "list_train = sorted_list(os.path.join('/content/drive/MyDrive/dacon/north/train/', '*'))\n",
        "train.head()"
      ],
      "execution_count": null,
      "outputs": []
    },
    {
      "cell_type": "code",
      "metadata": {
        "id": "2EgmKKkW1-o6"
      },
      "source": [
        "list_train"
      ],
      "execution_count": null,
      "outputs": []
    },
    {
      "cell_type": "code",
      "metadata": {
        "id": "XSGTvT2_1pqZ"
      },
      "source": [
        "sub.head()"
      ],
      "execution_count": null,
      "outputs": []
    },
    {
      "cell_type": "code",
      "metadata": {
        "id": "tRm-NsTL2JO6"
      },
      "source": [
        "from tqdm import tqdm\n",
        "data = []\n",
        "for npy in tqdm(list_train):\n",
        "    data.append(np.load(npy))\n",
        "data = np.array(data)"
      ],
      "execution_count": null,
      "outputs": []
    },
    {
      "cell_type": "code",
      "metadata": {
        "id": "EJ6HYQz22vnH"
      },
      "source": [
        "data"
      ],
      "execution_count": null,
      "outputs": []
    },
    {
      "cell_type": "code",
      "metadata": {
        "id": "Q9MZ4EVs3rAT"
      },
      "source": [
        "data.shape"
      ],
      "execution_count": null,
      "outputs": []
    },
    {
      "cell_type": "code",
      "metadata": {
        "id": "qZcvV3Iv3yl6"
      },
      "source": [
        "for idx in list_train:\n",
        "    # name_npy = train['file_nm'].iloc[idx]\n",
        "    # tmpnpy = np.load(os.path.join(PATH+'/train',name_npy))\n",
        "    tmpnpy = np.load(idx)\n",
        "    # print(tmpnpy)\n",
        "    show_data(tmpnpy)\n",
        "    if idx == 1:\n",
        "        break"
      ],
      "execution_count": null,
      "outputs": []
    },
    {
      "cell_type": "code",
      "metadata": {
        "id": "0iH5cYf16P8r"
      },
      "source": [
        ""
      ],
      "execution_count": null,
      "outputs": []
    }
  ]
}